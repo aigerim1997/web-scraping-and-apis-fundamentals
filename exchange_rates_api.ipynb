{
 "cells": [
  {
   "cell_type": "markdown",
   "metadata": {},
   "source": [
    "# Pulling data from public APIs - GET request"
   ]
  },
  {
   "cell_type": "code",
   "execution_count": 194,
   "metadata": {},
   "outputs": [],
   "source": [
    "# loading the packages\n",
    "import requests\n",
    "import json\n",
    "import os\n",
    "import yaml"
   ]
  },
  {
   "cell_type": "markdown",
   "metadata": {},
   "source": [
    "## Extracting data on currency exchange rates"
   ]
  },
  {
   "cell_type": "code",
   "execution_count": 2,
   "metadata": {},
   "outputs": [],
   "source": [
    "# Documentation at https://exchangeratesapi.io"
   ]
  },
  {
   "cell_type": "code",
   "execution_count": 201,
   "metadata": {},
   "outputs": [
    {
     "name": "stdout",
     "output_type": "stream",
     "text": [
      "None\n"
     ]
    }
   ],
   "source": [
    "cred_folder = os.getenv('CRED_PATH')\n",
    "\n",
    "key_file = os.path.join(\n",
    "    cred_folder,\n",
    "    \"cred.yml\")\n",
    "with open(key_file, 'r') as file:\n",
    "    key = yaml.safe_load(file)\n",
    "    key = key['api_access_key']"
   ]
  },
  {
   "cell_type": "markdown",
   "metadata": {},
   "source": [
    "### Sending a GET request"
   ]
  },
  {
   "cell_type": "code",
   "execution_count": 174,
   "metadata": {},
   "outputs": [],
   "source": [
    "# Define the base URL\n",
    "base_url = \"http://api.exchangeratesapi.io/v1/latest\"\n",
    "\n",
    "# Parameters\n",
    "base_currency='base=EUR'\n",
    "symbols_currency= 'symbols=KZT'\n",
    "access_key=f'access_key={key}'\n",
    "\n",
    "# Full URL\n",
    "param_url = base_url + '?' + base_currency + '&' + symbols_currency + '&' + access_key"
   ]
  },
  {
   "cell_type": "code",
   "execution_count": 175,
   "metadata": {},
   "outputs": [],
   "source": [
    "# make a GET request to this API endpoint with requests.get\n",
    "response = requests.get(param_url)\n",
    "\n",
    "# This method returns the response from the server\n",
    "# We store this response in a variable for future processing"
   ]
  },
  {
   "cell_type": "markdown",
   "metadata": {},
   "source": [
    "### Investigating the response"
   ]
  },
  {
   "cell_type": "code",
   "execution_count": 176,
   "metadata": {},
   "outputs": [
    {
     "data": {
      "text/plain": [
       "True"
      ]
     },
     "execution_count": 176,
     "metadata": {},
     "output_type": "execute_result"
    }
   ],
   "source": [
    "# Checking if the request went through ok\n",
    "response.ok"
   ]
  },
  {
   "cell_type": "code",
   "execution_count": 87,
   "metadata": {},
   "outputs": [
    {
     "data": {
      "text/plain": [
       "200"
      ]
     },
     "execution_count": 87,
     "metadata": {},
     "output_type": "execute_result"
    }
   ],
   "source": [
    "# Checking the status code of the response\n",
    "response.status_code"
   ]
  },
  {
   "cell_type": "code",
   "execution_count": 177,
   "metadata": {},
   "outputs": [
    {
     "data": {
      "text/plain": [
       "'{\"success\":true,\"timestamp\":1633791304,\"base\":\"EUR\",\"date\":\"2021-10-09\",\"rates\":{\"KZT\":492.207633}}'"
      ]
     },
     "execution_count": 177,
     "metadata": {},
     "output_type": "execute_result"
    }
   ],
   "source": [
    "# Inspecting the content body of the response (as a regular 'string')\n",
    "response.text"
   ]
  },
  {
   "cell_type": "code",
   "execution_count": 82,
   "metadata": {},
   "outputs": [
    {
     "data": {
      "text/plain": [
       "b'{\"success\":true,\"timestamp\":1633784703,\"base\":\"EUR\",\"date\":\"2021-10-09\",\"rates\":{\"KZT\":492.207633}}'"
      ]
     },
     "execution_count": 82,
     "metadata": {},
     "output_type": "execute_result"
    }
   ],
   "source": [
    "# Inspecting the content of the response (in 'bytes' format)\n",
    "response.content"
   ]
  },
  {
   "cell_type": "markdown",
   "metadata": {},
   "source": [
    "### Handling the JSON"
   ]
  },
  {
   "cell_type": "code",
   "execution_count": 100,
   "metadata": {},
   "outputs": [
    {
     "name": "stdout",
     "output_type": "stream",
     "text": [
      "1633784703\n",
      "EUR\n",
      "492.207633\n"
     ]
    }
   ],
   "source": [
    "# Save response to a variable\n",
    "data = response.json()\n",
    "print(data['timestamp'])\n",
    "print(data['base'])\n",
    "print(data['rates']['KZT'])"
   ]
  },
  {
   "cell_type": "code",
   "execution_count": 55,
   "metadata": {},
   "outputs": [
    {
     "data": {
      "text/plain": [
       "dict"
      ]
     },
     "execution_count": 55,
     "metadata": {},
     "output_type": "execute_result"
    }
   ],
   "source": [
    "# In Python, this JSON is stored as a dictionary\n",
    "type(response.json())"
   ]
  },
  {
   "cell_type": "code",
   "execution_count": 12,
   "metadata": {},
   "outputs": [],
   "source": [
    "# It has two main methods:\n",
    "# .loads(), which creates a Python dictionary from a JSON format string (just as response.json() does)\n",
    "# .dumps(), which creates a JSON format string out of a Python dictionary "
   ]
  },
  {
   "cell_type": "code",
   "execution_count": 56,
   "metadata": {},
   "outputs": [
    {
     "data": {
      "text/plain": [
       "'{\\n    \"success\": true,\\n    \"timestamp\": 1633784703,\\n    \"base\": \"EUR\",\\n    \"date\": \"2021-10-09\",\\n    \"rates\": {\\n        \"AED\": 4.251518,\\n        \"AFN\": 104.944931,\\n        \"ALL\": 121.413551,\\n        \"AMD\": 554.270118,\\n        \"ANG\": 2.076687,\\n        \"AOA\": 692.655629,\\n        \"ARS\": 114.371665,\\n        \"AUD\": 1.583713,\\n        \"AWG\": 2.084143,\\n        \"AZN\": 1.972406,\\n        \"BAM\": 1.956854,\\n        \"BBD\": 2.335923,\\n        \"BDT\": 98.990614,\\n        \"BGN\": 1.956224,\\n        \"BHD\": 0.436128,\\n        \"BIF\": 2300.143949,\\n        \"BMD\": 1.157536,\\n        \"BND\": 1.568721,\\n        \"BOB\": 7.994184,\\n        \"BRL\": 6.38014,\\n        \"BSD\": 1.156906,\\n        \"BTC\": 2.1036843e-05,\\n        \"BTN\": 86.822845,\\n        \"BWP\": 13.042927,\\n        \"BYN\": 2.855395,\\n        \"BYR\": 22687.703275,\\n        \"BZD\": 2.332021,\\n        \"CAD\": 1.443621,\\n        \"CDF\": 2332.43522,\\n        \"CHF\": 1.073557,\\n        \"CLF\": 0.034586,\\n        \"CLP\": 954.330915,\\n        \"CNY\": 7.458356,\\n        \"COP\": 4366.785678,\\n        \"CRC\": 724.429183,\\n        \"CUC\": 1.157536,\\n        \"CUP\": 30.674701,\\n        \"CVE\": 110.322746,\\n        \"CZK\": 25.455198,\\n        \"DJF\": 205.957803,\\n        \"DKK\": 7.442065,\\n        \"DOP\": 65.099074,\\n        \"DZD\": 159.039245,\\n        \"EGP\": 18.172512,\\n        \"ERN\": 17.368773,\\n        \"ETB\": 53.816969,\\n        \"EUR\": 1,\\n        \"FJD\": 2.432389,\\n        \"FKP\": 0.836297,\\n        \"GBP\": 0.850285,\\n        \"GEL\": 3.617346,\\n        \"GGP\": 0.836297,\\n        \"GHS\": 7.01087,\\n        \"GIP\": 0.836297,\\n        \"GMD\": 59.617558,\\n        \"GNF\": 11289.108984,\\n        \"GTQ\": 8.954487,\\n        \"GYD\": 241.846588,\\n        \"HKD\": 9.010727,\\n        \"HNL\": 27.87359,\\n        \"HRK\": 7.518085,\\n        \"HTG\": 116.847161,\\n        \"HUF\": 360.248766,\\n        \"IDR\": 16502.81543,\\n        \"ILS\": 3.742326,\\n        \"IMP\": 0.836297,\\n        \"INR\": 86.967412,\\n        \"IQD\": 1689.084106,\\n        \"IRR\": 48845.124774,\\n        \"ISK\": 149.415178,\\n        \"JEP\": 0.836296,\\n        \"JMD\": 171.794921,\\n        \"JOD\": 0.820739,\\n        \"JPY\": 129.881359,\\n        \"KES\": 128.127265,\\n        \"KGS\": 98.163443,\\n        \"KHR\": 4720.170648,\\n        \"KMF\": 492.705592,\\n        \"KPW\": 1041.78231,\\n        \"KRW\": 1385.385688,\\n        \"KWD\": 0.349044,\\n        \"KYD\": 0.964105,\\n        \"KZT\": 492.207633,\\n        \"LAK\": 11632.788874,\\n        \"LBP\": 1749.515737,\\n        \"LKR\": 231.38111,\\n        \"LRD\": 197.364237,\\n        \"LSL\": 17.294028,\\n        \"LTL\": 3.417903,\\n        \"LVL\": 0.700182,\\n        \"LYD\": 5.27356,\\n        \"MAD\": 10.492592,\\n        \"MDL\": 20.13594,\\n        \"MGA\": 4570.932533,\\n        \"MKD\": 61.647268,\\n        \"MMK\": 2269.270889,\\n        \"MNT\": 3286.519613,\\n        \"MOP\": 9.277156,\\n        \"MRO\": 413.240111,\\n        \"MUR\": 49.305808,\\n        \"MVR\": 17.884367,\\n        \"MWK\": 943.456827,\\n        \"MXN\": 23.975698,\\n        \"MYR\": 4.83623,\\n        \"MZN\": 73.885952,\\n        \"NAD\": 17.294023,\\n        \"NGN\": 475.527752,\\n        \"NIO\": 40.729319,\\n        \"NOK\": 9.846839,\\n        \"NPR\": 138.916712,\\n        \"NZD\": 1.667559,\\n        \"OMR\": 0.445623,\\n        \"PAB\": 1.156906,\\n        \"PEN\": 4.734678,\\n        \"PGK\": 4.062126,\\n        \"PHP\": 58.563654,\\n        \"PKR\": 197.715189,\\n        \"PLN\": 4.60283,\\n        \"PYG\": 7985.579839,\\n        \"QAR\": 4.214299,\\n        \"RON\": 4.950207,\\n        \"RSD\": 117.611561,\\n        \"RUB\": 83.126245,\\n        \"RWF\": 1176.645884,\\n        \"SAR\": 4.341172,\\n        \"SBD\": 9.33877,\\n        \"SCR\": 15.76607,\\n        \"SDG\": 511.056349,\\n        \"SEK\": 10.134609,\\n        \"SGD\": 1.569044,\\n        \"SHP\": 1.594394,\\n        \"SLL\": 12264.093055,\\n        \"SOS\": 676.001347,\\n        \"SRD\": 24.770154,\\n        \"STD\": 23958.655688,\\n        \"SVC\": 10.123299,\\n        \"SYP\": 1455.529857,\\n        \"SZL\": 17.245427,\\n        \"THB\": 39.183017,\\n        \"TJS\": 13.099056,\\n        \"TMT\": 4.062951,\\n        \"TND\": 3.277567,\\n        \"TOP\": 2.620434,\\n        \"TRY\": 10.390857,\\n        \"TTD\": 7.863616,\\n        \"TWD\": 32.49632,\\n        \"TZS\": 2666.665795,\\n        \"UAH\": 30.480154,\\n        \"UGX\": 4142.868474,\\n        \"USD\": 1.157536,\\n        \"UYU\": 50.111229,\\n        \"UZS\": 12356.177512,\\n        \"VEF\": 247516154875.64575,\\n        \"VND\": 26328.7811,\\n        \"VUV\": 129.217735,\\n        \"WST\": 2.963661,\\n        \"XAF\": 656.300523,\\n        \"XAG\": 0.051069,\\n        \"XAU\": 0.000659,\\n        \"XCD\": 3.128299,\\n        \"XDR\": 0.820029,\\n        \"XOF\": 656.300523,\\n        \"XPF\": 119.863262,\\n        \"YER\": 289.673776,\\n        \"ZAR\": 17.325586,\\n        \"ZMK\": 10419.216134,\\n        \"ZMW\": 19.81197,\\n        \"ZWL\": 372.726082\\n    }\\n}'"
      ]
     },
     "execution_count": 56,
     "metadata": {},
     "output_type": "execute_result"
    }
   ],
   "source": [
    "# .dumps() has options to make the string 'prettier', more readable\n",
    "# We can choose the number of spaces to be used as indentation\n",
    "json.dumps(response.json(), indent=4)"
   ]
  },
  {
   "cell_type": "code",
   "execution_count": 101,
   "metadata": {},
   "outputs": [
    {
     "name": "stdout",
     "output_type": "stream",
     "text": [
      "{\n",
      "    \"success\": true,\n",
      "    \"timestamp\": 1633784703,\n",
      "    \"base\": \"EUR\",\n",
      "    \"date\": \"2021-10-09\",\n",
      "    \"rates\": {\n",
      "        \"KZT\": 492.207633\n",
      "    }\n",
      "}\n"
     ]
    }
   ],
   "source": [
    "# In order to visualize these changes, we need to print the string\n",
    "print(json.dumps(response.json(), indent=4))"
   ]
  },
  {
   "cell_type": "code",
   "execution_count": 102,
   "metadata": {},
   "outputs": [
    {
     "data": {
      "text/plain": [
       "dict_keys(['success', 'timestamp', 'base', 'date', 'rates'])"
      ]
     },
     "execution_count": 102,
     "metadata": {},
     "output_type": "execute_result"
    }
   ],
   "source": [
    "response.json().keys()"
   ]
  },
  {
   "cell_type": "markdown",
   "metadata": {},
   "source": [
    "# Historical rates"
   ]
  },
  {
   "cell_type": "code",
   "execution_count": 178,
   "metadata": {},
   "outputs": [],
   "source": [
    "# Define the base URL to extract the exchange rates for 2021-01-04\n",
    "base_url = \"http://api.exchangeratesapi.io/v1/2021-01-04\"\n",
    "\n",
    "# Parameters\n",
    "base_currency='base=EUR'\n",
    "symbols_currency= 'symbols=KZT'\n",
    "access_key=f'access_key={key}'\n",
    "\n",
    "# Full URL\n",
    "param_url = base_url + '?' + base_currency + '&' + access_key"
   ]
  },
  {
   "cell_type": "code",
   "execution_count": 179,
   "metadata": {},
   "outputs": [
    {
     "data": {
      "text/plain": [
       "{'success': True,\n",
       " 'timestamp': 1609804799,\n",
       " 'historical': True,\n",
       " 'base': 'EUR',\n",
       " 'date': '2021-01-04',\n",
       " 'rates': {'AED': 4.50012,\n",
       "  'AFN': 94.57894,\n",
       "  'ALL': 122.910377,\n",
       "  'AMD': 640.23646,\n",
       "  'ANG': 2.198064,\n",
       "  'AOA': 801.425911,\n",
       "  'ARS': 103.68101,\n",
       "  'AUD': 1.5975,\n",
       "  'AWG': 2.20522,\n",
       "  'AZN': 2.086734,\n",
       "  'BAM': 1.948248,\n",
       "  'BBD': 2.472498,\n",
       "  'BDT': 103.848766,\n",
       "  'BGN': 1.956896,\n",
       "  'BHD': 0.461973,\n",
       "  'BIF': 2384.088111,\n",
       "  'BMD': 1.225122,\n",
       "  'BND': 1.612989,\n",
       "  'BOB': 8.43109,\n",
       "  'BRL': 6.489225,\n",
       "  'BSD': 1.224545,\n",
       "  'BTC': 3.8314537e-05,\n",
       "  'BTN': 89.420345,\n",
       "  'BWP': 13.174538,\n",
       "  'BYN': 3.161796,\n",
       "  'BYR': 24012.398238,\n",
       "  'BZD': 2.468414,\n",
       "  'CAD': 1.566135,\n",
       "  'CDF': 2413.490846,\n",
       "  'CHF': 1.079688,\n",
       "  'CLF': 0.031271,\n",
       "  'CLP': 862.857567,\n",
       "  'CNY': 7.916246,\n",
       "  'COP': 4226.059578,\n",
       "  'CRC': 747.507636,\n",
       "  'CUC': 1.225122,\n",
       "  'CUP': 32.465743,\n",
       "  'CVE': 110.414174,\n",
       "  'CZK': 26.18834,\n",
       "  'DJF': 217.728813,\n",
       "  'DKK': 7.440119,\n",
       "  'DOP': 71.300266,\n",
       "  'DZD': 161.954397,\n",
       "  'EGP': 19.281417,\n",
       "  'ERN': 18.376772,\n",
       "  'ETB': 48.018994,\n",
       "  'EUR': 1,\n",
       "  'FJD': 2.501824,\n",
       "  'FKP': 0.902812,\n",
       "  'GBP': 0.90281,\n",
       "  'GEL': 4.03091,\n",
       "  'GGP': 0.902812,\n",
       "  'GHS': 7.17945,\n",
       "  'GIP': 0.902812,\n",
       "  'GMD': 63.400567,\n",
       "  'GNF': 12275.725968,\n",
       "  'GTQ': 9.545531,\n",
       "  'GYD': 255.97178,\n",
       "  'HKD': 9.498704,\n",
       "  'HNL': 29.690775,\n",
       "  'HRK': 7.561698,\n",
       "  'HTG': 89.112849,\n",
       "  'HUF': 361.76595,\n",
       "  'IDR': 17076.613027,\n",
       "  'ILS': 3.931319,\n",
       "  'IMP': 0.902812,\n",
       "  'INR': 89.838299,\n",
       "  'IQD': 1787.852459,\n",
       "  'IRR': 51583.776646,\n",
       "  'ISK': 156.104709,\n",
       "  'JEP': 0.902812,\n",
       "  'JMD': 174.441,\n",
       "  'JOD': 0.868626,\n",
       "  'JPY': 126.347199,\n",
       "  'KES': 133.906627,\n",
       "  'KGS': 101.964483,\n",
       "  'KHR': 4955.619619,\n",
       "  'KMF': 492.774768,\n",
       "  'KPW': 1102.690422,\n",
       "  'KRW': 1331.334331,\n",
       "  'KWD': 0.372562,\n",
       "  'KYD': 1.020429,\n",
       "  'KZT': 516.081636,\n",
       "  'LAK': 11393.637591,\n",
       "  'LBP': 1852.806963,\n",
       "  'LKR': 228.992661,\n",
       "  'LRD': 201.408221,\n",
       "  'LSL': 17.878497,\n",
       "  'LTL': 3.617468,\n",
       "  'LVL': 0.741064,\n",
       "  'LYD': 1.635511,\n",
       "  'MAD': 10.853974,\n",
       "  'MDL': 21.001173,\n",
       "  'MGA': 4771.851046,\n",
       "  'MKD': 61.618891,\n",
       "  'MMK': 1626.215181,\n",
       "  'MNT': 3490.216365,\n",
       "  'MOP': 9.778148,\n",
       "  'MRO': 437.368472,\n",
       "  'MUR': 48.273841,\n",
       "  'MVR': 18.879493,\n",
       "  'MWK': 947.019389,\n",
       "  'MXN': 24.435005,\n",
       "  'MYR': 4.908457,\n",
       "  'MZN': 91.774133,\n",
       "  'NAD': 17.878774,\n",
       "  'NGN': 466.772154,\n",
       "  'NIO': 42.855013,\n",
       "  'NOK': 10.483978,\n",
       "  'NPR': 143.077046,\n",
       "  'NZD': 1.70692,\n",
       "  'OMR': 0.471684,\n",
       "  'PAB': 1.224535,\n",
       "  'PEN': 4.465695,\n",
       "  'PGK': 4.299998,\n",
       "  'PHP': 58.81836,\n",
       "  'PKR': 195.798987,\n",
       "  'PLN': 4.55806,\n",
       "  'PYG': 8470.107181,\n",
       "  'QAR': 4.460651,\n",
       "  'RON': 4.869865,\n",
       "  'RSD': 117.56228,\n",
       "  'RUB': 91.284359,\n",
       "  'RWF': 1191.431494,\n",
       "  'SAR': 4.595811,\n",
       "  'SBD': 9.858726,\n",
       "  'SCR': 25.978308,\n",
       "  'SDG': 67.747999,\n",
       "  'SEK': 10.108032,\n",
       "  'SGD': 1.617885,\n",
       "  'SHP': 0.902812,\n",
       "  'SLL': 12410.489074,\n",
       "  'SOS': 714.856134,\n",
       "  'SRD': 17.340359,\n",
       "  'STD': 25525.256938,\n",
       "  'SVC': 10.714305,\n",
       "  'SYP': 628.269743,\n",
       "  'SZL': 17.892739,\n",
       "  'THB': 36.655622,\n",
       "  'TJS': 13.871219,\n",
       "  'TMT': 4.300179,\n",
       "  'TND': 3.291916,\n",
       "  'TOP': 2.785377,\n",
       "  'TRY': 9.098374,\n",
       "  'TTD': 8.280277,\n",
       "  'TWD': 34.445488,\n",
       "  'TZS': 2839.772028,\n",
       "  'UAH': 34.830539,\n",
       "  'UGX': 4506.326563,\n",
       "  'USD': 1.225122,\n",
       "  'UYU': 51.866581,\n",
       "  'UZS': 12807.429074,\n",
       "  'VEF': 12.235912,\n",
       "  'VND': 28275.824048,\n",
       "  'VUV': 132.920637,\n",
       "  'WST': 3.089534,\n",
       "  'XAF': 653.424823,\n",
       "  'XAG': 0.045103,\n",
       "  'XAU': 0.000631,\n",
       "  'XCD': 3.310954,\n",
       "  'XDR': 0.850198,\n",
       "  'XOF': 654.215649,\n",
       "  'XPF': 119.510243,\n",
       "  'YER': 306.709905,\n",
       "  'ZAR': 18.012484,\n",
       "  'ZMK': 11027.57477,\n",
       "  'ZMW': 25.927214,\n",
       "  'ZWL': 394.489627}}"
      ]
     },
     "execution_count": 179,
     "metadata": {},
     "output_type": "execute_result"
    }
   ],
   "source": [
    "response= requests.get(param_url).json()\n",
    "response"
   ]
  },
  {
   "cell_type": "markdown",
   "metadata": {},
   "source": [
    "# Rates for a period of time"
   ]
  },
  {
   "cell_type": "code",
   "execution_count": 180,
   "metadata": {},
   "outputs": [
    {
     "name": "stdout",
     "output_type": "stream",
     "text": [
      "http://api.exchangeratesapi.io/v1/timeseries?access_key=bba971da4e663b2a078d5083598f7f41&start_date=2019-12-28&end_date=2020-01-01\n"
     ]
    },
    {
     "data": {
      "text/plain": [
       "{'error': {'code': 'function_access_restricted',\n",
       "  'message': 'Access Restricted - Your current Subscription Plan does not support this API Function.'}}"
      ]
     },
     "execution_count": 180,
     "metadata": {},
     "output_type": "execute_result"
    }
   ],
   "source": [
    "# Define the base URL to extract the exchange rates for 2021-01-04\n",
    "base_url = \"http://api.exchangeratesapi.io/v1/timeseries\"\n",
    "\n",
    "# Parameters\n",
    "base_currency='base=EUR'\n",
    "symbols_currency= 'symbols=KZT'\n",
    "start='start_date=2019-12-28'\n",
    "end='end_date=2020-01-01'\n",
    "access_key=f'access_key={key}'\n",
    "\n",
    "# Full URL\n",
    "param_url = base_url + '?' + access_key + '&' + start + '&' + end\n",
    "print(param_url)\n",
    "\n",
    "# Request:\n",
    "response = requests.get(param_url).json()\n",
    "response"
   ]
  },
  {
   "cell_type": "markdown",
   "metadata": {},
   "source": [
    "# Create a currency converter"
   ]
  },
  {
   "cell_type": "code",
   "execution_count": 181,
   "metadata": {},
   "outputs": [
    {
     "name": "stdout",
     "output_type": "stream",
     "text": [
      "Enter Amount in EUR: 100\n",
      "Currency to convert into: GBP\n",
      "The exchange rate is: 0.850285\n",
      "The equivalent amount in GBP is: 85.0285\n"
     ]
    }
   ],
   "source": [
    "amount= float(input('Enter Amount in EUR: '))\n",
    "currency = input('Currency to convert into: ')\n",
    "\n",
    "# Define the base URL to extract the exchange rates for 2021-01-04\n",
    "base_url = \"http://api.exchangeratesapi.io/v1/latest\"\n",
    "\n",
    "# Parameters\n",
    "base_currency='base=EUR'\n",
    "symbols_currency= f'symbols={currency}'\n",
    "access_key=f'access_key={key}'\n",
    "\n",
    "# Full URL\n",
    "param_url = base_url + '?' + access_key + '&' + symbols_currency\n",
    "\n",
    "# Request:\n",
    "response = requests.get(param_url).json()\n",
    "\n",
    "# Extract the rate\n",
    "rate = response['rates'][currency]\n",
    "print(f'The exchange rate is: {rate}')\n",
    "\n",
    "# Calculate the converted amount\n",
    "output=float(amount)*float(rate)\n",
    "print(f'The equivalent amount in {currency} is: {output}')"
   ]
  }
 ],
 "metadata": {
  "kernelspec": {
   "display_name": "Python 3",
   "language": "python",
   "name": "python3"
  },
  "language_info": {
   "codemirror_mode": {
    "name": "ipython",
    "version": 3
   },
   "file_extension": ".py",
   "mimetype": "text/x-python",
   "name": "python",
   "nbconvert_exporter": "python",
   "pygments_lexer": "ipython3",
   "version": "3.8.3"
  }
 },
 "nbformat": 4,
 "nbformat_minor": 2
}
